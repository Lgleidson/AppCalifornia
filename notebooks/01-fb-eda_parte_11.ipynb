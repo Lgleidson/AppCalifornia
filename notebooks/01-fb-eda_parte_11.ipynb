{
 "cells": [
  {
   "cell_type": "code",
   "execution_count": null,
   "id": "dbe756e3-bf5d-4170-ad95-01b96c62e84d",
   "metadata": {},
   "outputs": [],
   "source": [
    "import matplotlib.pyplot as plt\n",
    "import numpy as np\n",
    "import pandas as pd\n",
    "import seaborn as sns\n",
    "\n",
    "from src.config import DADOS_ORIGINAIS\n",
    "from src.graficos import PALETTE, SCATTER_ALPHA\n",
    "\n",
    "sns.set_theme(palette=\"bright\")"
   ]
  },
  {
   "cell_type": "code",
   "execution_count": null,
   "id": "a095b66b-d89f-4053-ad87-40fcecb7bc27",
   "metadata": {},
   "outputs": [],
   "source": [
    "df = pd.read_csv(DADOS_ORIGINAIS, compression=\"zip\")\n",
    "\n",
    "df.head()"
   ]
  },
  {
   "cell_type": "code",
   "execution_count": null,
   "id": "b68d22e2-1a07-4f76-916d-e22fef642030",
   "metadata": {},
   "outputs": [],
   "source": [
    "df.tail()"
   ]
  },
  {
   "cell_type": "code",
   "execution_count": null,
   "id": "c13f2fa6-1930-405f-adf7-8efbc8ef3b3f",
   "metadata": {},
   "outputs": [],
   "source": [
    "df.info()"
   ]
  },
  {
   "cell_type": "code",
   "execution_count": null,
   "id": "9ed460b2-5317-4ecc-8d71-afd49b6adc4f",
   "metadata": {},
   "outputs": [],
   "source": [
    "df.describe()"
   ]
  },
  {
   "cell_type": "code",
   "execution_count": null,
   "id": "e30a5131-3e37-4496-821b-5c8510d4b397",
   "metadata": {},
   "outputs": [],
   "source": [
    "df.describe(exclude=\"number\")"
   ]
  },
  {
   "cell_type": "code",
   "execution_count": null,
   "id": "62204e09-9a11-4312-8666-be3ff7a1f545",
   "metadata": {},
   "outputs": [],
   "source": [
    "sns.pairplot(df, diag_kind=\"kde\", plot_kws=dict(alpha=SCATTER_ALPHA))"
   ]
  },
  {
   "cell_type": "code",
   "execution_count": null,
   "id": "e90da68b-1363-431d-be33-cd8a066567d5",
   "metadata": {},
   "outputs": [],
   "source": [
    "df.select_dtypes(\"number\").skew()"
   ]
  },
  {
   "cell_type": "code",
   "execution_count": null,
   "id": "0ec5fdd0-8561-4f44-a84f-ff0d51904f75",
   "metadata": {},
   "outputs": [],
   "source": [
    "df.select_dtypes(\"number\").kurtosis()"
   ]
  },
  {
   "cell_type": "code",
   "execution_count": null,
   "id": "39da7eee-a41b-4f8e-82f6-76eb5636c4d2",
   "metadata": {},
   "outputs": [],
   "source": [
    "df[df.duplicated()]"
   ]
  },
  {
   "cell_type": "code",
   "execution_count": null,
   "id": "cd661d4d-9a58-4a4d-8a03-cf0355379c68",
   "metadata": {},
   "outputs": [],
   "source": [
    "df[df.isnull().any(axis=1)]"
   ]
  },
  {
   "cell_type": "code",
   "execution_count": null,
   "id": "e7e514f9-27ad-458e-ac85-e4fe85011d11",
   "metadata": {},
   "outputs": [],
   "source": [
    "df[df.isnull().any(axis=1)].describe()"
   ]
  },
  {
   "cell_type": "code",
   "execution_count": null,
   "id": "d95850a3-ed9a-47a8-8039-2aa24f449f3a",
   "metadata": {},
   "outputs": [],
   "source": [
    "df[\"ocean_proximity\"].value_counts()"
   ]
  },
  {
   "cell_type": "code",
   "execution_count": null,
   "id": "a7684de3-605e-43dd-93b9-0c9799f79f07",
   "metadata": {},
   "outputs": [],
   "source": [
    "fig, axs = plt.subplots(3, 3, figsize=(10, 5))\n",
    "\n",
    "for ax, coluna in zip(axs.flatten(), df.columns):\n",
    "    sns.boxplot(data=df, x=coluna, ax=ax, showmeans=True)\n",
    "\n",
    "plt.tight_layout()\n",
    "\n",
    "plt.show()"
   ]
  },
  {
   "cell_type": "code",
   "execution_count": null,
   "id": "d722d8dd-8b5d-4f01-b639-5d1650abd352",
   "metadata": {},
   "outputs": [],
   "source": [
    "matriz = np.triu(df.select_dtypes(\"number\").corr())\n",
    "\n",
    "fig, ax = plt.subplots()\n",
    "\n",
    "sns.heatmap(\n",
    "    df.select_dtypes(\"number\").corr(),\n",
    "    mask=matriz,\n",
    "    annot=True,\n",
    "    fmt=\".2f\",\n",
    "    ax=ax,\n",
    "    cmap=PALETTE\n",
    ")\n",
    "\n",
    "plt.show()"
   ]
  },
  {
   "cell_type": "markdown",
   "id": "e7a1112e-6278-4200-854d-ae7068d1f1c3",
   "metadata": {},
   "source": [
    "Algumas variáveis novas:\n",
    "\n",
    "- criar classes em `median_income`\n",
    "- cômodos por domicílio\n",
    "- pessoas por domicílio\n",
    "- quartos por cômodos"
   ]
  },
  {
   "cell_type": "code",
   "execution_count": null,
   "id": "50484bc3-6578-4e47-9b9a-de7719570aee",
   "metadata": {},
   "outputs": [],
   "source": [
    "df[\"median_income_cat\"] = pd.cut(\n",
    "    df[\"median_income\"],\n",
    "    bins=[0, 1.5, 3, 4.5, 6, np.inf],\n",
    "    labels=[1, 2, 3, 4, 5],\n",
    ")\n",
    "\n",
    "df.info()"
   ]
  },
  {
   "cell_type": "code",
   "execution_count": null,
   "id": "f9f0006b-09c0-4bbc-9ccc-97d5f8a4b71f",
   "metadata": {},
   "outputs": [],
   "source": [
    "df[\"median_income_cat\"].value_counts().sort_index()"
   ]
  },
  {
   "cell_type": "code",
   "execution_count": null,
   "id": "352d581b-f5ed-4888-be10-5460ceb8d275",
   "metadata": {},
   "outputs": [],
   "source": [
    "df[\"median_income_cat\"].value_counts().sort_index().plot(kind=\"bar\")"
   ]
  },
  {
   "cell_type": "code",
   "execution_count": null,
   "id": "af4a2ca9-4ce5-486d-a20b-8d8f88d75fef",
   "metadata": {},
   "outputs": [],
   "source": [
    "df.columns"
   ]
  },
  {
   "cell_type": "code",
   "execution_count": null,
   "id": "7815ae17-169b-46a0-be7c-2502afda1c92",
   "metadata": {},
   "outputs": [],
   "source": [
    "df[\"rooms_per_household\"] = df[\"total_rooms\"] / df[\"households\"]\n",
    "df[\"population_per_household\"] = df[\"population\"] / df[\"households\"]\n",
    "df[\"bedrooms_per_room\"] = df[\"total_bedrooms\"] / df[\"total_rooms\"]\n",
    "\n",
    "df.info()"
   ]
  },
  {
   "cell_type": "code",
   "execution_count": null,
   "id": "8b1172e1-69fe-4b94-9539-bbced40d6d98",
   "metadata": {},
   "outputs": [],
   "source": [
    "df.describe()"
   ]
  },
  {
   "cell_type": "code",
   "execution_count": null,
   "id": "0ebf93ff-be28-47ce-8e43-594780d991cb",
   "metadata": {},
   "outputs": [],
   "source": [
    "fig, axs = plt.subplots(4, 3, figsize=(10, 5))\n",
    "\n",
    "for ax, coluna in zip(axs.flatten(), df.select_dtypes(\"number\").columns):\n",
    "    sns.boxplot(data=df, x=coluna, ax=ax, showmeans=True)\n",
    "\n",
    "plt.tight_layout()\n",
    "\n",
    "plt.show()"
   ]
  },
  {
   "cell_type": "code",
   "execution_count": null,
   "id": "9a2931cc-19c4-4583-99d3-163d0388b0fa",
   "metadata": {},
   "outputs": [],
   "source": [
    "matriz = np.triu(df.select_dtypes(\"number\").corr())\n",
    "\n",
    "fig, ax = plt.subplots(figsize=(8, 8))\n",
    "\n",
    "sns.heatmap(\n",
    "    df.select_dtypes(\"number\").corr(),\n",
    "    mask=matriz,\n",
    "    annot=True,\n",
    "    fmt=\".2f\",\n",
    "    ax=ax,\n",
    "    cmap=PALETTE\n",
    ")\n",
    "\n",
    "plt.show()"
   ]
  },
  {
   "cell_type": "code",
   "execution_count": null,
   "id": "c27858c6-4821-4d6d-976d-2836f2a57464",
   "metadata": {},
   "outputs": [],
   "source": [
    "df[\n",
    "    df[\"median_house_value\"] == df[\"median_house_value\"].max()\n",
    "]"
   ]
  },
  {
   "cell_type": "code",
   "execution_count": null,
   "id": "cf319335-53b5-4b03-a3ff-2771ba80be52",
   "metadata": {},
   "outputs": [],
   "source": [
    "965 / df.shape[0]"
   ]
  },
  {
   "cell_type": "code",
   "execution_count": null,
   "id": "292754bc-87ba-4fc2-a254-aa789423534b",
   "metadata": {},
   "outputs": [],
   "source": [
    "df[\"median_house_value\"].quantile(0.95)"
   ]
  },
  {
   "cell_type": "code",
   "execution_count": null,
   "id": "928254b8-afaf-4e67-af86-7c8e6cc05996",
   "metadata": {},
   "outputs": [],
   "source": [
    "df_clean = df.copy()\n",
    "\n",
    "df_clean.info()"
   ]
  },
  {
   "cell_type": "code",
   "execution_count": null,
   "id": "601fb2f9-5f83-452b-ae39-1375c656d212",
   "metadata": {},
   "outputs": [],
   "source": [
    "QUANTIL = 0.99\n",
    "\n",
    "df_clean = df_clean[\n",
    "    (df[\"housing_median_age\"] < df[\"housing_median_age\"].quantile(QUANTIL))\n",
    "    & (df[\"total_rooms\"] < df[\"total_rooms\"].quantile(QUANTIL))\n",
    "    & (df[\"total_bedrooms\"] < df[\"total_bedrooms\"].quantile(QUANTIL))\n",
    "    & (df[\"population\"] < df[\"population\"].quantile(QUANTIL))\n",
    "    & (df[\"households\"] < df[\"households\"].quantile(QUANTIL))\n",
    "    & (df[\"median_income\"] < df[\"median_income\"].quantile(QUANTIL))\n",
    "    & (df[\"median_house_value\"] < df[\"median_house_value\"].quantile(QUANTIL))\n",
    "    & (df[\"rooms_per_household\"] < df[\"rooms_per_household\"].quantile(QUANTIL))\n",
    "    & (df[\"population_per_household\"] < df[\"population_per_household\"].quantile(QUANTIL))\n",
    "    & (df[\"bedrooms_per_room\"] < df[\"bedrooms_per_room\"].quantile(QUANTIL))\n",
    "]\n",
    "\n",
    "df_clean.info()"
   ]
  },
  {
   "cell_type": "code",
   "execution_count": null,
   "id": "5377c50a-a408-4a2f-85af-0bce2f33d6b7",
   "metadata": {},
   "outputs": [],
   "source": [
    "1 - df_clean.shape[0] / df.shape[0]"
   ]
  },
  {
   "cell_type": "code",
   "execution_count": null,
   "id": "a05c6707-c7ff-4c88-bebe-ef2a2ab9aed5",
   "metadata": {},
   "outputs": [],
   "source": [
    "df_clean.describe()"
   ]
  },
  {
   "cell_type": "code",
   "execution_count": null,
   "id": "4e536430-f829-4edc-8820-d1c6a36491c3",
   "metadata": {},
   "outputs": [],
   "source": [
    "sns.pairplot(df_clean, diag_kind=\"kde\", plot_kws=dict(alpha=SCATTER_ALPHA))"
   ]
  },
  {
   "cell_type": "code",
   "execution_count": null,
   "id": "be125d4f-e4ea-434c-b06f-8ccc449975b0",
   "metadata": {},
   "outputs": [],
   "source": [
    "fig, axs = plt.subplots(4, 3, figsize=(10, 5))\n",
    "\n",
    "for ax, coluna in zip(axs.flatten(), df_clean.select_dtypes(\"number\").columns):\n",
    "    sns.boxplot(data=df_clean, x=coluna, ax=ax, showmeans=True)\n",
    "\n",
    "plt.tight_layout()\n",
    "\n",
    "plt.show()"
   ]
  },
  {
   "cell_type": "code",
   "execution_count": null,
   "id": "e942f3fa-b32b-4896-9140-c136a0379621",
   "metadata": {},
   "outputs": [],
   "source": [
    "matriz = np.triu(df_clean.select_dtypes(\"number\").corr())\n",
    "\n",
    "fig, ax = plt.subplots(figsize=(8, 8))\n",
    "\n",
    "sns.heatmap(\n",
    "    df_clean.select_dtypes(\"number\").corr(),\n",
    "    mask=matriz,\n",
    "    annot=True,\n",
    "    fmt=\".2f\",\n",
    "    ax=ax,\n",
    "    cmap=PALETTE\n",
    ")\n",
    "\n",
    "plt.show()"
   ]
  },
  {
   "cell_type": "code",
   "execution_count": null,
   "id": "9d260de9-c6dd-462a-b18c-98d2a945e6df",
   "metadata": {},
   "outputs": [],
   "source": [
    "df_clean[\"ocean_proximity\"].value_counts()"
   ]
  },
  {
   "cell_type": "code",
   "execution_count": null,
   "id": "46892445-da5f-4ce9-b79c-b7f2fefc1c6f",
   "metadata": {},
   "outputs": [],
   "source": [
    "df_clean = df_clean.loc[df_clean[\"ocean_proximity\"] != \"ISLAND\"]\n",
    "\n",
    "df_clean[\"ocean_proximity\"].value_counts()"
   ]
  },
  {
   "cell_type": "code",
   "execution_count": null,
   "id": "38123124-4a4b-4eeb-929d-b4d1c070bf9f",
   "metadata": {},
   "outputs": [],
   "source": [
    "df_clean[\"ocean_proximity\"] = df_clean[\"ocean_proximity\"].astype(\"category\")\n",
    "\n",
    "df_clean.info()"
   ]
  },
  {
   "cell_type": "code",
   "execution_count": null,
   "id": "ad52f865-edaa-40c2-b7d8-11023832505e",
   "metadata": {},
   "outputs": [],
   "source": [
    "colunas_valores_inteiros = []\n",
    "\n",
    "for coluna in df_clean.select_dtypes(\"number\").columns:\n",
    "    if df_clean[coluna].apply(float.is_integer).all():\n",
    "        colunas_valores_inteiros.append(coluna)\n",
    "\n",
    "colunas_valores_inteiros"
   ]
  },
  {
   "cell_type": "code",
   "execution_count": null,
   "id": "498e9795-c282-484b-896d-e4cf67c8b0e0",
   "metadata": {},
   "outputs": [],
   "source": [
    "colunas_valores_float = df_clean.select_dtypes(\"number\").columns.difference(colunas_valores_inteiros)\n",
    "\n",
    "colunas_valores_float"
   ]
  },
  {
   "cell_type": "code",
   "execution_count": null,
   "id": "7b595fa4-e5df-4509-add4-95f33a39d00e",
   "metadata": {},
   "outputs": [],
   "source": [
    "df_clean[colunas_valores_inteiros] = df_clean[colunas_valores_inteiros].apply(\n",
    "    pd.to_numeric, downcast=\"integer\"\n",
    ")\n",
    "\n",
    "df_clean[colunas_valores_float] = df_clean[colunas_valores_float].apply(\n",
    "    pd.to_numeric, downcast=\"float\"\n",
    ")\n",
    "\n",
    "df_clean.info()"
   ]
  },
  {
   "cell_type": "code",
   "execution_count": null,
   "id": "5955f863-f342-4a9a-9a11-007fed9bc73a",
   "metadata": {},
   "outputs": [],
   "source": [
    "df_clean.describe()"
   ]
  },
  {
   "cell_type": "code",
   "execution_count": null,
   "id": "8d72aa23-d3ee-4cef-bfea-01febee676ff",
   "metadata": {},
   "outputs": [],
   "source": []
  }
 ],
 "metadata": {
  "kernelspec": {
   "display_name": "machlearhousing",
   "language": "python",
   "name": "machlearhousing"
  },
  "language_info": {
   "codemirror_mode": {
    "name": "ipython",
    "version": 3
   },
   "file_extension": ".py",
   "mimetype": "text/x-python",
   "name": "python",
   "nbconvert_exporter": "python",
   "pygments_lexer": "ipython3",
   "version": "3.12.5"
  }
 },
 "nbformat": 4,
 "nbformat_minor": 5
}
