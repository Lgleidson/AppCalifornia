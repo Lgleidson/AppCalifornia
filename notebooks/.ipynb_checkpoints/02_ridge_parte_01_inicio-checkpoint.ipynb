{
 "cells": [
  {
   "cell_type": "markdown",
   "id": "f2ad92be-ebd4-40be-9503-84d911f6f04f",
   "metadata": {},
   "source": [
    "# Grid search\n",
    "\n",
    "O `GridSearchCV` do Scikit-Learn é uma ferramenta utilizada para otimizar hiperparâmetros de modelos de machine learning. Hiperparâmetros são parâmetros do modelo que não são aprendidos diretamente pelos algoritmos de aprendizado, mas que precisam ser definidos antes do processo de treino. Exemplos comuns incluem a profundidade máxima de uma árvore de decisão ou a taxa de aprendizado de um modelo de gradient boosting. Encontrar os valores corretos desses hiperparâmetros pode impactar significativamente a performance do modelo.\n",
    "\n",
    "O `GridSearchCV` automatiza esse processo, testando exaustivamente todas as combinações possíveis de valores fornecidos para os hiperparâmetros, criando uma grade (ou \"grid\") de opções. Ele faz isso utilizando validação cruzada (cross-validation), o que significa que o conjunto de dados é dividido em múltiplas partes (folds) e o desempenho do modelo é avaliado em diferentes subdivisões. Dessa forma, o processo minimiza o risco de overfitting e garante que o modelo generalize melhor para dados não vistos.\n",
    "\n",
    "Após testar todas as combinações, o `GridSearchCV` retorna o conjunto de hiperparâmetros que apresentou o melhor desempenho com base na métrica de avaliação definida, como acurácia, F1-score, entre outros.\n",
    "\n",
    "Em resumo, o `GridSearchCV` é uma abordagem sistemática e eficiente para encontrar os melhores hiperparâmetros de um modelo, evitando o trabalho manual de testar diferentes combinações e proporcionando resultados mais robustos.\n",
    "\n",
    "https://scikit-learn.org/stable/modules/grid_search.html#grid-search\n",
    "\n",
    "https://scikit-learn.org/stable/modules/generated/sklearn.model_selection.GridSearchCV.html"
   ]
  },
  {
   "cell_type": "code",
   "execution_count": 1,
   "id": "ad9b3ba9-f72a-48d7-873b-2071cb21131e",
   "metadata": {},
   "outputs": [],
   "source": [
    "import matplotlib.pyplot as plt\n",
    "import pandas as pd\n",
    "import seaborn as sns\n",
    "\n",
    "from sklearn.compose import ColumnTransformer\n",
    "from sklearn.dummy import DummyRegressor\n",
    "from sklearn.linear_model import ElasticNet, Lasso, LinearRegression, Ridge\n",
    "from sklearn.preprocessing import (\n",
    "    OrdinalEncoder,\n",
    "    OneHotEncoder,\n",
    "    PowerTransformer,\n",
    "    StandardScaler,\n",
    "    QuantileTransformer,\n",
    ")\n",
    "\n",
    "from src.config import DADOS_DIABETES_CATEGORIZADOS\n",
    "from src.modelos import RANDOM_STATE\n",
    "from src.modelos import grid_search_cv_regressor, organiza_resultados, treinar_e_validar_modelo_regressao\n",
    "\n",
    "sns.set_theme(palette=\"bright\")"
   ]
  },
  {
   "cell_type": "code",
   "execution_count": 2,
   "id": "967a5989-b30a-496b-8dde-0ef83b9e4c8d",
   "metadata": {},
   "outputs": [
    {
     "data": {
      "text/html": [
       "<div>\n",
       "<style scoped>\n",
       "    .dataframe tbody tr th:only-of-type {\n",
       "        vertical-align: middle;\n",
       "    }\n",
       "\n",
       "    .dataframe tbody tr th {\n",
       "        vertical-align: top;\n",
       "    }\n",
       "\n",
       "    .dataframe thead th {\n",
       "        text-align: right;\n",
       "    }\n",
       "</style>\n",
       "<table border=\"1\" class=\"dataframe\">\n",
       "  <thead>\n",
       "    <tr style=\"text-align: right;\">\n",
       "      <th></th>\n",
       "      <th>idade</th>\n",
       "      <th>sexo</th>\n",
       "      <th>imc</th>\n",
       "      <th>pressao_media</th>\n",
       "      <th>colesterol_total</th>\n",
       "      <th>ldl</th>\n",
       "      <th>hdl</th>\n",
       "      <th>triglicerides</th>\n",
       "      <th>glicose</th>\n",
       "      <th>target</th>\n",
       "      <th>colesterol_hdl_cat</th>\n",
       "    </tr>\n",
       "  </thead>\n",
       "  <tbody>\n",
       "    <tr>\n",
       "      <th>0</th>\n",
       "      <td>59</td>\n",
       "      <td>2</td>\n",
       "      <td>32.099998</td>\n",
       "      <td>101.0</td>\n",
       "      <td>157</td>\n",
       "      <td>93.199997</td>\n",
       "      <td>38.0</td>\n",
       "      <td>4.8598</td>\n",
       "      <td>87</td>\n",
       "      <td>151</td>\n",
       "      <td>4-5</td>\n",
       "    </tr>\n",
       "    <tr>\n",
       "      <th>1</th>\n",
       "      <td>48</td>\n",
       "      <td>1</td>\n",
       "      <td>21.600000</td>\n",
       "      <td>87.0</td>\n",
       "      <td>183</td>\n",
       "      <td>103.199997</td>\n",
       "      <td>70.0</td>\n",
       "      <td>3.8918</td>\n",
       "      <td>69</td>\n",
       "      <td>75</td>\n",
       "      <td>2-3</td>\n",
       "    </tr>\n",
       "    <tr>\n",
       "      <th>2</th>\n",
       "      <td>72</td>\n",
       "      <td>2</td>\n",
       "      <td>30.500000</td>\n",
       "      <td>93.0</td>\n",
       "      <td>156</td>\n",
       "      <td>93.599998</td>\n",
       "      <td>41.0</td>\n",
       "      <td>4.6728</td>\n",
       "      <td>85</td>\n",
       "      <td>141</td>\n",
       "      <td>4-5</td>\n",
       "    </tr>\n",
       "    <tr>\n",
       "      <th>3</th>\n",
       "      <td>24</td>\n",
       "      <td>1</td>\n",
       "      <td>25.299999</td>\n",
       "      <td>84.0</td>\n",
       "      <td>198</td>\n",
       "      <td>131.399994</td>\n",
       "      <td>40.0</td>\n",
       "      <td>4.8903</td>\n",
       "      <td>89</td>\n",
       "      <td>206</td>\n",
       "      <td>4-5</td>\n",
       "    </tr>\n",
       "    <tr>\n",
       "      <th>4</th>\n",
       "      <td>50</td>\n",
       "      <td>1</td>\n",
       "      <td>23.000000</td>\n",
       "      <td>101.0</td>\n",
       "      <td>192</td>\n",
       "      <td>125.400002</td>\n",
       "      <td>52.0</td>\n",
       "      <td>4.2905</td>\n",
       "      <td>80</td>\n",
       "      <td>135</td>\n",
       "      <td>4-5</td>\n",
       "    </tr>\n",
       "  </tbody>\n",
       "</table>\n",
       "</div>"
      ],
      "text/plain": [
       "   idade  sexo        imc  pressao_media  colesterol_total         ldl   hdl  \\\n",
       "0     59     2  32.099998          101.0               157   93.199997  38.0   \n",
       "1     48     1  21.600000           87.0               183  103.199997  70.0   \n",
       "2     72     2  30.500000           93.0               156   93.599998  41.0   \n",
       "3     24     1  25.299999           84.0               198  131.399994  40.0   \n",
       "4     50     1  23.000000          101.0               192  125.400002  52.0   \n",
       "\n",
       "   triglicerides  glicose  target colesterol_hdl_cat  \n",
       "0         4.8598       87     151                4-5  \n",
       "1         3.8918       69      75                2-3  \n",
       "2         4.6728       85     141                4-5  \n",
       "3         4.8903       89     206                4-5  \n",
       "4         4.2905       80     135                4-5  "
      ]
     },
     "execution_count": 2,
     "metadata": {},
     "output_type": "execute_result"
    }
   ],
   "source": [
    "df = pd.read_parquet(DADOS_DIABETES_CATEGORIZADOS)\n",
    "\n",
    "df.head()"
   ]
  },
  {
   "cell_type": "code",
   "execution_count": 3,
   "id": "8485cf71-955b-468b-93ff-61d1dbacf00d",
   "metadata": {},
   "outputs": [
    {
     "name": "stdout",
     "output_type": "stream",
     "text": [
      "<class 'pandas.core.frame.DataFrame'>\n",
      "RangeIndex: 442 entries, 0 to 441\n",
      "Data columns (total 11 columns):\n",
      " #   Column              Non-Null Count  Dtype   \n",
      "---  ------              --------------  -----   \n",
      " 0   idade               442 non-null    int8    \n",
      " 1   sexo                442 non-null    int8    \n",
      " 2   imc                 442 non-null    float32 \n",
      " 3   pressao_media       442 non-null    float32 \n",
      " 4   colesterol_total    442 non-null    int16   \n",
      " 5   ldl                 442 non-null    float32 \n",
      " 6   hdl                 442 non-null    float32 \n",
      " 7   triglicerides       442 non-null    float32 \n",
      " 8   glicose             442 non-null    int8    \n",
      " 9   target              442 non-null    int16   \n",
      " 10  colesterol_hdl_cat  442 non-null    category\n",
      "dtypes: category(1), float32(5), int16(2), int8(3)\n",
      "memory usage: 12.3 KB\n"
     ]
    }
   ],
   "source": [
    "df.info()"
   ]
  },
  {
   "cell_type": "code",
   "execution_count": 4,
   "id": "5eed3faa-5f00-4d32-8b43-dae863fb31d2",
   "metadata": {},
   "outputs": [],
   "source": [
    "X = df.drop(columns=\"target\")\n",
    "y = df[\"target\"]"
   ]
  },
  {
   "cell_type": "code",
   "execution_count": 5,
   "id": "12c944af-ffaa-473d-b36f-ab58fe344e2f",
   "metadata": {},
   "outputs": [
    {
     "data": {
      "text/plain": [
       "['idade', 'pressao_media', 'triglicerides', 'glicose']"
      ]
     },
     "execution_count": 5,
     "metadata": {},
     "output_type": "execute_result"
    }
   ],
   "source": [
    "colunas_power_transform = [\"imc\", \"ldl\", \"hdl\", \"colesterol_total\"]\n",
    "\n",
    "coluna_target = [\"target\"]\n",
    "\n",
    "coluna_ordinal_encoder = [\"colesterol_hdl_cat\"]\n",
    "\n",
    "coluna_one_hot_encoder = [\"sexo\"]\n",
    "\n",
    "colunas_standard_scaler = [\n",
    "    coluna\n",
    "    for coluna in df.columns\n",
    "    if coluna not in colunas_power_transform + coluna_target + coluna_ordinal_encoder + coluna_one_hot_encoder\n",
    "]\n",
    "\n",
    "colunas_standard_scaler"
   ]
  },
  {
   "cell_type": "code",
   "execution_count": 6,
   "id": "e148ce0e-6161-445f-bcde-21698f21be9b",
   "metadata": {},
   "outputs": [],
   "source": [
    "categorias_ordinal_encoder = [\n",
    "    [\"2-3\", \"4-5\", \"6+\"],\n",
    "]"
   ]
  },
  {
   "cell_type": "code",
   "execution_count": 7,
   "id": "f49a165f-0240-4035-a74a-df9066695326",
   "metadata": {},
   "outputs": [],
   "source": [
    "preprocessamento_categoricas = ColumnTransformer(\n",
    "    transformers=[\n",
    "        (\"ordinal_encoder\", OrdinalEncoder(categories=categorias_ordinal_encoder), coluna_ordinal_encoder),\n",
    "        (\"one_hot_encoder\", OneHotEncoder(drop=\"if_binary\"), coluna_one_hot_encoder),\n",
    "    ],\n",
    "    remainder=\"passthrough\",\n",
    ")\n",
    "\n",
    "preprocessamento_simples = ColumnTransformer(\n",
    "    transformers=[\n",
    "        (\"ordinal_encoder\", OrdinalEncoder(categories=categorias_ordinal_encoder), coluna_ordinal_encoder),\n",
    "        (\"one_hot_encoder\", OneHotEncoder(drop=\"if_binary\"), coluna_one_hot_encoder),\n",
    "        (\"standard_scaler\", StandardScaler(), X.columns.difference(coluna_ordinal_encoder + coluna_one_hot_encoder)),\n",
    "    ],\n",
    "    remainder=\"passthrough\",\n",
    ")\n",
    "\n",
    "preprocessamento_completo = ColumnTransformer(\n",
    "    [\n",
    "        (\"power_transform\", PowerTransformer(method=\"box-cox\"), colunas_power_transform),\n",
    "        (\"standard_scaler\", StandardScaler(), colunas_standard_scaler),\n",
    "        (\"ordinal_encoder\", OrdinalEncoder(categories=categorias_ordinal_encoder), coluna_ordinal_encoder),\n",
    "        (\"one_hot_encoder\", OneHotEncoder(drop=\"if_binary\"), coluna_one_hot_encoder),\n",
    "    ]\n",
    ")\n",
    "\n",
    "target_transformer = QuantileTransformer(n_quantiles=20, output_distribution=\"normal\")"
   ]
  }
 ],
 "metadata": {
  "kernelspec": {
   "display_name": "Python 3 (ipykernel)",
   "language": "python",
   "name": "python3"
  },
  "language_info": {
   "codemirror_mode": {
    "name": "ipython",
    "version": 3
   },
   "file_extension": ".py",
   "mimetype": "text/x-python",
   "name": "python",
   "nbconvert_exporter": "python",
   "pygments_lexer": "ipython3",
   "version": "3.12.7"
  }
 },
 "nbformat": 4,
 "nbformat_minor": 5
}
